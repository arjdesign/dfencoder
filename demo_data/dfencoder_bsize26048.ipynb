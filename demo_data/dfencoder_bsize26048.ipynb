{
 "cells": [
  {
   "cell_type": "markdown",
   "metadata": {},
   "source": [
    "\n"
   ]
  },
  {
   "cell_type": "markdown",
   "metadata": {},
   "source": [
    "### Experiement using batch size of 26048"
   ]
  },
  {
   "cell_type": "code",
   "execution_count": null,
   "metadata": {},
   "outputs": [],
   "source": []
  },
  {
   "cell_type": "code",
   "execution_count": null,
   "metadata": {},
   "outputs": [],
   "source": [
    "#these are our libraries\n",
    "from dfencoder import AutoEncoder\n",
    "import numpy as np\n",
    "import pandas as pd\n",
    "\n",
    "#and, for pretty visualiations...\n",
    "import matplotlib.pyplot as plt\n",
    "import seaborn as sns\n",
    "\n",
    "sns.set()\n",
    "%config InlineBackend.figure_format = 'retina'\n",
    "import torch"
   ]
  },
  {
   "cell_type": "markdown",
   "metadata": {},
   "source": [
    "This dataset contains information about 32,561 adults (in the training set), with a number of features.\n",
    "\n",
    "Traditionally, the target variable is \"salary,\" a binary feature with \"<50k\" and \">=50k\" as its two values. For this now, we'll treat this column as we do all the others."
   ]
  },
  {
   "cell_type": "code",
   "execution_count": 2,
   "metadata": {},
   "outputs": [
    {
     "data": {
      "text/html": [
       "<div>\n",
       "<style scoped>\n",
       "    .dataframe tbody tr th:only-of-type {\n",
       "        vertical-align: middle;\n",
       "    }\n",
       "\n",
       "    .dataframe tbody tr th {\n",
       "        vertical-align: top;\n",
       "    }\n",
       "\n",
       "    .dataframe thead th {\n",
       "        text-align: right;\n",
       "    }\n",
       "</style>\n",
       "<table border=\"1\" class=\"dataframe\">\n",
       "  <thead>\n",
       "    <tr style=\"text-align: right;\">\n",
       "      <th></th>\n",
       "      <th>age</th>\n",
       "      <th>workclass</th>\n",
       "      <th>fnlwgt</th>\n",
       "      <th>education</th>\n",
       "      <th>education-num</th>\n",
       "      <th>marital-status</th>\n",
       "      <th>occupation</th>\n",
       "      <th>relationship</th>\n",
       "      <th>race</th>\n",
       "      <th>sex</th>\n",
       "      <th>capital-gain</th>\n",
       "      <th>capital-loss</th>\n",
       "      <th>hours-per-week</th>\n",
       "      <th>native-country</th>\n",
       "      <th>salary</th>\n",
       "    </tr>\n",
       "  </thead>\n",
       "  <tbody>\n",
       "    <tr>\n",
       "      <th>0</th>\n",
       "      <td>49</td>\n",
       "      <td>Private</td>\n",
       "      <td>101320</td>\n",
       "      <td>Assoc-acdm</td>\n",
       "      <td>12.0</td>\n",
       "      <td>Married-civ-spouse</td>\n",
       "      <td>NaN</td>\n",
       "      <td>Wife</td>\n",
       "      <td>White</td>\n",
       "      <td>Female</td>\n",
       "      <td>0</td>\n",
       "      <td>1902</td>\n",
       "      <td>40</td>\n",
       "      <td>United-States</td>\n",
       "      <td>&gt;=50k</td>\n",
       "    </tr>\n",
       "    <tr>\n",
       "      <th>1</th>\n",
       "      <td>44</td>\n",
       "      <td>Private</td>\n",
       "      <td>236746</td>\n",
       "      <td>Masters</td>\n",
       "      <td>14.0</td>\n",
       "      <td>Divorced</td>\n",
       "      <td>Exec-managerial</td>\n",
       "      <td>Not-in-family</td>\n",
       "      <td>White</td>\n",
       "      <td>Male</td>\n",
       "      <td>10520</td>\n",
       "      <td>0</td>\n",
       "      <td>45</td>\n",
       "      <td>United-States</td>\n",
       "      <td>&gt;=50k</td>\n",
       "    </tr>\n",
       "    <tr>\n",
       "      <th>2</th>\n",
       "      <td>38</td>\n",
       "      <td>Private</td>\n",
       "      <td>96185</td>\n",
       "      <td>HS-grad</td>\n",
       "      <td>NaN</td>\n",
       "      <td>Divorced</td>\n",
       "      <td>NaN</td>\n",
       "      <td>Unmarried</td>\n",
       "      <td>Black</td>\n",
       "      <td>Female</td>\n",
       "      <td>0</td>\n",
       "      <td>0</td>\n",
       "      <td>32</td>\n",
       "      <td>United-States</td>\n",
       "      <td>&lt;50k</td>\n",
       "    </tr>\n",
       "    <tr>\n",
       "      <th>3</th>\n",
       "      <td>38</td>\n",
       "      <td>Self-emp-inc</td>\n",
       "      <td>112847</td>\n",
       "      <td>Prof-school</td>\n",
       "      <td>15.0</td>\n",
       "      <td>Married-civ-spouse</td>\n",
       "      <td>Prof-specialty</td>\n",
       "      <td>Husband</td>\n",
       "      <td>Asian-Pac-Islander</td>\n",
       "      <td>Male</td>\n",
       "      <td>0</td>\n",
       "      <td>0</td>\n",
       "      <td>40</td>\n",
       "      <td>United-States</td>\n",
       "      <td>&gt;=50k</td>\n",
       "    </tr>\n",
       "    <tr>\n",
       "      <th>4</th>\n",
       "      <td>42</td>\n",
       "      <td>Self-emp-not-inc</td>\n",
       "      <td>82297</td>\n",
       "      <td>7th-8th</td>\n",
       "      <td>NaN</td>\n",
       "      <td>Married-civ-spouse</td>\n",
       "      <td>Other-service</td>\n",
       "      <td>Wife</td>\n",
       "      <td>Black</td>\n",
       "      <td>Female</td>\n",
       "      <td>0</td>\n",
       "      <td>0</td>\n",
       "      <td>50</td>\n",
       "      <td>United-States</td>\n",
       "      <td>&lt;50k</td>\n",
       "    </tr>\n",
       "  </tbody>\n",
       "</table>\n",
       "</div>"
      ],
      "text/plain": [
       "   age          workclass  fnlwgt     education  education-num  \\\n",
       "0   49            Private  101320    Assoc-acdm           12.0   \n",
       "1   44            Private  236746       Masters           14.0   \n",
       "2   38            Private   96185       HS-grad            NaN   \n",
       "3   38       Self-emp-inc  112847   Prof-school           15.0   \n",
       "4   42   Self-emp-not-inc   82297       7th-8th            NaN   \n",
       "\n",
       "        marital-status        occupation    relationship                 race  \\\n",
       "0   Married-civ-spouse               NaN            Wife                White   \n",
       "1             Divorced   Exec-managerial   Not-in-family                White   \n",
       "2             Divorced               NaN       Unmarried                Black   \n",
       "3   Married-civ-spouse    Prof-specialty         Husband   Asian-Pac-Islander   \n",
       "4   Married-civ-spouse     Other-service            Wife                Black   \n",
       "\n",
       "       sex  capital-gain  capital-loss  hours-per-week  native-country salary  \n",
       "0   Female             0          1902              40   United-States  >=50k  \n",
       "1     Male         10520             0              45   United-States  >=50k  \n",
       "2   Female             0             0              32   United-States   <50k  \n",
       "3     Male             0             0              40   United-States  >=50k  \n",
       "4   Female             0             0              50   United-States   <50k  "
      ]
     },
     "execution_count": 2,
     "metadata": {},
     "output_type": "execute_result"
    }
   ],
   "source": [
    "#load and look at the data\n",
    "df = pd.read_csv('https://github.com/AlliedToasters/dfencoder/raw/master/adult.csv')\n",
    "\n",
    "#this dataset contains nulls and ' ?'. Let's make these all nulls.\n",
    "df = df.applymap(lambda x: np.nan if x==' ?' else x)\n",
    "df.head()"
   ]
  },
  {
   "cell_type": "markdown",
   "metadata": {},
   "source": [
    "\n",
    "Validation on Hold-Out Set\n",
    "Even in unsupervised learning, it's a good idea to do a train/validation split during training. \n",
    "This will help you fine-tune your model and avoid overfitting. Let's hold out 20% of the examples."
   ]
  },
  {
   "cell_type": "code",
   "execution_count": 3,
   "metadata": {},
   "outputs": [],
   "source": [
    "train = df.sample(frac=.8, random_state=42)\n",
    "test = df.loc[~df.index.isin(train.index)]\n",
    "\n",
    "X_train = train\n",
    "X_val = test"
   ]
  },
  {
   "cell_type": "code",
   "execution_count": 4,
   "metadata": {},
   "outputs": [],
   "source": [
    "model = AutoEncoder(\n",
    "    encoder_layers = [512, 512, 512], #model architecture\n",
    "    decoder_layers = [], #decoder optional - you can create bottlenecks if you like\n",
    "    activation='relu',\n",
    "    swap_p=0.2, #noise parameter\n",
    "    lr = 0.01,\n",
    "    lr_decay=.99,\n",
    "    batch_size=  26048, #512\n",
    "    logger='ipynb', #special logging for jupyter notebooks\n",
    "    verbose=False,\n",
    "    optimizer='sgd',\n",
    "    scaler='gauss_rank', #gauss rank scaling forces your numeric features into standard normal distributions\n",
    "    min_cats=3 #Define cutoff for minority categories, default 10\n",
    ")"
   ]
  },
  {
   "cell_type": "code",
   "execution_count": 7,
   "metadata": {},
   "outputs": [
    {
     "data": {
      "image/png": "[encoded data removed]",
      "text/plain": [
       "<Figure size 432x288 with 1 Axes>"
      ]
     },
     "metadata": {
      "image/png": {
       "height": 271,
       "width": 392
      }
     },
     "output_type": "display_data"
    }
   ],
   "source": [
    "model.fit(X_train, epochs=1000, val=X_val)"
   ]
  },
  {
   "cell_type": "code",
   "execution_count": 8,
   "metadata": {},
   "outputs": [
    {
     "name": "stdout",
     "output_type": "stream",
     "text": [
      "torch.Size([6512, 1536])\n",
      "tensor([0.5189, 0.0000, 0.0000,  ..., 0.1739, 0.4351, 0.0000], device='cuda:0')\n"
     ]
    }
   ],
   "source": [
    "\n",
    "z = model.get_deep_stack_features(X_val)\n",
    "print(z.shape)\n",
    "print(z[0, :])"
   ]
  },
  {
   "cell_type": "code",
   "execution_count": 9,
   "metadata": {},
   "outputs": [
    {
     "data": {
      "text/plain": [
       "array(['<50k', '>=50k'], dtype=object)"
      ]
     },
     "execution_count": 9,
     "metadata": {},
     "output_type": "execute_result"
    }
   ],
   "source": [
    "X_train.salary.unique()"
   ]
  },
  {
   "cell_type": "code",
   "execution_count": 10,
   "metadata": {},
   "outputs": [
    {
     "name": "stdout",
     "output_type": "stream",
     "text": [
      "0 epochs complete...\n",
      "100 epochs complete...\n",
      "200 epochs complete...\n",
      "300 epochs complete...\n",
      "400 epochs complete...\n",
      "500 epochs complete...\n",
      "600 epochs complete...\n",
      "700 epochs complete...\n",
      "800 epochs complete...\n",
      "900 epochs complete...\n",
      "\n",
      "Final results: \n",
      "validation loss:  0.3298\n",
      "validation accuracy:  0.852\n",
      "validation f1 score:  0.653\n"
     ]
    }
   ],
   "source": [
    "from tqdm import tqdm_notebook as tqdm\n",
    "\n",
    "from sklearn.metrics import f1_score\n",
    "import numpy as np\n",
    "import torch\n",
    "import tqdm\n",
    "\n",
    "class ClassifierModel(torch.nn.Module):\n",
    "    \"\"\"A simple classifier neural network.\"\"\"\n",
    "  \n",
    "    def __init__(self, *args, **kwargs):\n",
    "        super(ClassifierModel, self).__init__(*args, **kwargs)\n",
    "        self.input_dropout = torch.nn.Dropout(.1)\n",
    "        self.input_layer = torch.nn.Linear(1536, 512)\n",
    "        self.dropout = torch.nn.Dropout(.5)\n",
    "        self.dense = torch.nn.Linear(512, 512)\n",
    "        self.output = torch.nn.Linear(512, 1)\n",
    "\n",
    "    def forward(self, x):\n",
    "        x = self.input_dropout(x)\n",
    "        x = self.input_layer(x)\n",
    "        x = torch.relu(x)\n",
    "        x = self.dropout(x)\n",
    "        x = self.dense(x)\n",
    "        x = torch.relu(x)\n",
    "\n",
    "        x = self.output(x)\n",
    "        x = torch.sigmoid(x)\n",
    "        return x\n",
    "    \n",
    "    \n",
    "classifier = ClassifierModel().to(\"cuda:0\")\n",
    "\n",
    "optim = torch.optim.Adam(\n",
    "    classifier.parameters(),\n",
    "    weight_decay=.01\n",
    ")\n",
    "\n",
    "decay = torch.optim.lr_scheduler.ExponentialLR(optim, .99)\n",
    "\n",
    "loss = torch.nn.modules.loss.BCELoss()\n",
    "\n",
    "def do_step(classifier, optim, z, target, loss):\n",
    "    pred = classifier(z)\n",
    "    target = torch.tensor(target).float().reshape(-1, 1).to(\"cuda:0\")\n",
    "    loss_ = loss(pred, target)\n",
    "    amnt = loss_.item()\n",
    "    loss_.backward()\n",
    "    optim.step()\n",
    "    optim.zero_grad()\n",
    "    return amnt\n",
    "\n",
    "def do_evaluation(classifier, z, target, loss):\n",
    "    with torch.no_grad():\n",
    "        pred = classifier(z)\n",
    "        probs = pred.cpu().numpy().reshape(-1)\n",
    "        predictions = np.where(probs > .5, 1, 0)\n",
    "\n",
    "        accuracy = np.where(target==predictions, 1, 0).sum()/len(predictions)\n",
    "        f1 = f1_score(target, predictions)\n",
    "\n",
    "        target_ = torch.tensor(target).float().reshape(-1, 1).to(\"cuda:0\")\n",
    "        loss_ = loss(pred, target_)\n",
    "        return loss_.item(), accuracy, f1\n",
    "\n",
    "  \n",
    "batch_size = 256\n",
    "n_updates = (len(X_train)//batch_size) + 1\n",
    "\n",
    "n_epochs = 1000\n",
    "\n",
    "#To extract features, we'll set the target column on the input\n",
    "#equal to the majority class: <50k\n",
    "\n",
    "X_train2 = X_train.copy()\n",
    "X_train2['salary'] = ['<50k' for _ in X_train2['salary']]\n",
    "z_train = model.get_deep_stack_features(X_train2)\n",
    "\n",
    "Y_train = np.where(X_train['salary'].values == '<50k', 0, 1)\n",
    "\n",
    "X_test2 = X_val.copy()\n",
    "X_test2['salary'] = ['<50k' for _ in X_test2['salary']]\n",
    "z_test = model.get_deep_stack_features(X_test2)\n",
    "Y_test = np.where(X_val['salary'].values == '<50k', 0, 1)\n",
    "\n",
    "for j in range(n_epochs):\n",
    "    if j % 100 == 0:\n",
    "      print(f'{j} epochs complete...')\n",
    "    for i in range(n_updates):\n",
    "        step = i\n",
    "        start = int((step) * batch_size)\n",
    "        stop = int((step+1) * batch_size)\n",
    "        in_ = z_train[start:stop]\n",
    "        target = Y_train[start:stop]\n",
    "        do_step(classifier, optim, in_, target, loss)\n",
    "    decay.step()\n",
    "    bce_loss, accuracy, f1 = do_evaluation(classifier, z_test, Y_test, loss)\n",
    "print('\\nFinal results: ')\n",
    "print('validation loss: ', round(bce_loss, 4))\n",
    "print('validation accuracy: ', round(accuracy, 3))\n",
    "print('validation f1 score: ', round(f1, 3))"
   ]
  },
  {
   "cell_type": "code",
   "execution_count": 11,
   "metadata": {},
   "outputs": [
    {
     "name": "stdout",
     "output_type": "stream",
     "text": [
      "| ID | GPU | MEM |\n",
      "------------------\n",
      "|  0 |  5% | 63% |\n"
     ]
    }
   ],
   "source": [
    "import GPUtil\n",
    "GPUtil.showUtilization()"
   ]
  },
  {
   "cell_type": "code",
   "execution_count": 12,
   "metadata": {},
   "outputs": [],
   "source": [
    "torch.cuda.empty_cache()"
   ]
  },
  {
   "cell_type": "code",
   "execution_count": 13,
   "metadata": {},
   "outputs": [
    {
     "name": "stdout",
     "output_type": "stream",
     "text": [
      "| ID | GPU | MEM |\n",
      "------------------\n",
      "|  0 |  6% | 62% |\n"
     ]
    }
   ],
   "source": [
    "import GPUtil\n",
    "GPUtil.showUtilization()"
   ]
  },
  {
   "cell_type": "code",
   "execution_count": null,
   "metadata": {},
   "outputs": [],
   "source": []
  }
 ],
 "metadata": {
  "kernelspec": {
   "display_name": "kaggle_mxnet1",
   "language": "python",
   "name": "kaggle_mxnet1"
  },
  "language_info": {
   "codemirror_mode": {
    "name": "ipython",
    "version": 3
   },
   "file_extension": ".py",
   "mimetype": "text/x-python",
   "name": "python",
   "nbconvert_exporter": "python",
   "pygments_lexer": "ipython3",
   "version": "3.6.9"
  }
 },
 "nbformat": 4,
 "nbformat_minor": 4
}
